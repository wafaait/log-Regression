{
 "cells": [
  {
   "cell_type": "code",
   "execution_count": 73,
   "metadata": {},
   "outputs": [
    {
     "data": {
      "text/plain": [
       "array([[0],\n",
       "       [1],\n",
       "       [2],\n",
       "       [3],\n",
       "       [4],\n",
       "       [5],\n",
       "       [6],\n",
       "       [7],\n",
       "       [8],\n",
       "       [9]])"
      ]
     },
     "execution_count": 73,
     "metadata": {},
     "output_type": "execute_result"
    }
   ],
   "source": [
    "import numpy as np\n",
    "x=np.arange(10).reshape(-1,1)\n",
    "y=[0,0,0,0,1,1,1,1,1,1]\n",
    "x"
   ]
  },
  {
   "cell_type": "code",
   "execution_count": 59,
   "metadata": {},
   "outputs": [],
   "source": [
    "import matplotlib.pyplot as plt"
   ]
  },
  {
   "cell_type": "code",
   "execution_count": 60,
   "metadata": {},
   "outputs": [
    {
     "data": {
      "image/png": "[encoded data removed]",
      "text/plain": [
       "<Figure size 432x288 with 1 Axes>"
      ]
     },
     "metadata": {
      "needs_background": "light"
     },
     "output_type": "display_data"
    }
   ],
   "source": [
    "plt.plot(x,y,'ro')\n",
    "from sklearn.linear_model import LogisticRegression"
   ]
  },
  {
   "cell_type": "code",
   "execution_count": 81,
   "metadata": {},
   "outputs": [
    {
     "data": {
      "text/plain": [
       "LogisticRegression(C=1.0, class_weight=None, dual=False, fit_intercept=True,\n",
       "                   intercept_scaling=1, l1_ratio=None, max_iter=100,\n",
       "                   multi_class='auto', n_jobs=None, penalty='l2',\n",
       "                   random_state=None, solver='lbfgs', tol=0.0001, verbose=0,\n",
       "                   warm_start=False)"
      ]
     },
     "execution_count": 81,
     "metadata": {},
     "output_type": "execute_result"
    }
   ],
   "source": [
    "model=LogisticRegression()\n",
    "model.fit(x,y)"
   ]
  },
  {
   "cell_type": "code",
   "execution_count": 82,
   "metadata": {},
   "outputs": [
    {
     "data": {
      "text/plain": [
       "(array([-4.12617727]), array([[1.18109091]]))"
      ]
     },
     "execution_count": 82,
     "metadata": {},
     "output_type": "execute_result"
    }
   ],
   "source": [
    "model.intercept_,model.coef_"
   ]
  },
  {
   "cell_type": "code",
   "execution_count": 63,
   "metadata": {},
   "outputs": [
    {
     "data": {
      "text/plain": [
       "array([1])"
      ]
     },
     "execution_count": 63,
     "metadata": {},
     "output_type": "execute_result"
    }
   ],
   "source": [
    "model.predict([[22]])"
   ]
  },
  {
   "cell_type": "code",
   "execution_count": 64,
   "metadata": {
    "scrolled": false
   },
   "outputs": [
    {
     "data": {
      "text/plain": [
       "1.1810909129839742"
      ]
     },
     "execution_count": 64,
     "metadata": {},
     "output_type": "execute_result"
    }
   ],
   "source": [
    "w0=model.intercept_\n",
    "w0\n",
    "w1=model.coef_[0][0]\n",
    "w1"
   ]
  },
  {
   "cell_type": "code",
   "execution_count": 65,
   "metadata": {},
   "outputs": [
    {
     "data": {
      "text/plain": [
       "array([1.19842612e-07, 1.34866904e-07, 1.51774743e-07, 1.70802265e-07,\n",
       "       1.92215206e-07, 2.16312620e-07, 2.43431050e-07, 2.73949231e-07,\n",
       "       3.08293379e-07, 3.46943142e-07, 3.90438302e-07, 4.39386309e-07,\n",
       "       4.94470769e-07, 5.56460989e-07, 6.26222719e-07, 7.04730247e-07,\n",
       "       7.93080004e-07, 8.92505875e-07, 1.00439643e-06, 1.13031433e-06,\n",
       "       1.27201812e-06, 1.43148683e-06, 1.61094756e-06, 1.81290666e-06,\n",
       "       2.04018463e-06, 2.29595561e-06, 2.58379164e-06, 2.90771257e-06,\n",
       "       3.27224221e-06, 3.68247147e-06, 4.14412949e-06, 4.66366362e-06,\n",
       "       5.24832948e-06, 5.90629224e-06, 6.64674071e-06, 7.48001557e-06,\n",
       "       8.41775383e-06, 9.47305130e-06, 1.06606455e-05, 1.19971212e-05,\n",
       "       1.35011425e-05, 1.51937127e-05, 1.70984684e-05, 1.92420087e-05,\n",
       "       2.16542669e-05, 2.43689285e-05, 2.74239010e-05, 3.08618436e-05,\n",
       "       3.47307620e-05, 3.90846789e-05, 4.39843873e-05, 4.94982994e-05,\n",
       "       5.57034008e-05, 6.26863241e-05, 7.05445582e-05, 7.93878067e-05,\n",
       "       8.93395185e-05, 1.00538609e-04, 1.13141393e-04, 1.27323770e-04,\n",
       "       1.43283666e-04, 1.61243794e-04, 1.81454756e-04, 2.04198527e-04,\n",
       "       2.29792375e-04, 2.58593276e-04, 2.91002872e-04, 3.27473046e-04,\n",
       "       3.68512188e-04, 4.14692250e-04, 4.66656660e-04, 5.25129224e-04,\n",
       "       5.90924129e-04, 6.64957178e-04, 7.48258402e-04, 8.41986233e-04,\n",
       "       9.47443405e-04, 1.06609479e-03, 1.19958743e-03, 1.34977297e-03,\n",
       "       1.51873279e-03, 1.70880621e-03, 1.92262203e-03, 2.16313375e-03,\n",
       "       2.43365909e-03, 2.73792398e-03, 3.08011171e-03, 3.46491772e-03,\n",
       "       3.89761055e-03, 4.38409959e-03, 4.93101026e-03, 5.54576728e-03,\n",
       "       6.23668669e-03, 7.01307725e-03, 7.88535195e-03, 8.86515011e-03,\n",
       "       9.96547067e-03, 1.12008169e-02, 1.25873530e-02, 1.41430718e-02,\n",
       "       1.58879739e-02, 1.78442569e-02, 2.00365123e-02, 2.24919294e-02,\n",
       "       2.52405005e-02, 2.83152246e-02, 3.17523017e-02, 3.55913106e-02,\n",
       "       3.98753592e-02, 4.46511948e-02, 4.99692585e-02, 5.58836655e-02,\n",
       "       6.24520890e-02, 6.97355232e-02, 7.77978976e-02, 8.67055136e-02,\n",
       "       9.65262722e-02, 1.07328664e-01, 1.19180494e-01, 1.32147329e-01,\n",
       "       1.46290644e-01, 1.61665696e-01, 1.78319132e-01, 1.96286400e-01,\n",
       "       2.15589037e-01, 2.36231949e-01, 2.58200822e-01, 2.81459844e-01,\n",
       "       3.05949915e-01, 3.31587533e-01, 3.58264535e-01, 3.85848831e-01,\n",
       "       4.14186203e-01, 4.43103197e-01, 4.72411009e-01, 5.01910222e-01,\n",
       "       5.31396143e-01, 5.60664445e-01, 5.89516796e-01, 6.17766126e-01,\n",
       "       6.45241269e-01, 6.71790734e-01, 6.97285445e-01, 7.21620413e-01,\n",
       "       7.44715327e-01, 7.66514178e-01, 7.86984049e-01, 8.06113251e-01,\n",
       "       8.23908990e-01, 8.40394758e-01, 8.55607603e-01, 8.69595430e-01,\n",
       "       8.82414428e-01, 8.94126717e-01, 9.04798249e-01, 9.14497002e-01,\n",
       "       9.23291455e-01, 9.31249353e-01, 9.38436731e-01, 9.44917165e-01,\n",
       "       9.50751237e-01, 9.55996173e-01, 9.60705615e-01, 9.64929526e-01,\n",
       "       9.68714178e-01, 9.72102215e-01, 9.75132770e-01, 9.77841618e-01,\n",
       "       9.80261357e-01, 9.82421606e-01, 9.84349207e-01, 9.86068429e-01,\n",
       "       9.87601176e-01, 9.88967177e-01, 9.90184179e-01, 9.91268122e-01,\n",
       "       9.92233306e-01, 9.93092546e-01, 9.93857316e-01, 9.94537879e-01,\n",
       "       9.95143409e-01, 9.95682101e-01, 9.96161272e-01, 9.96587451e-01,\n",
       "       9.96966459e-01, 9.97303487e-01, 9.97603161e-01, 9.97869602e-01,\n",
       "       9.98106481e-01, 9.98317065e-01, 9.98504265e-01, 9.98670670e-01,\n",
       "       9.98818584e-01, 9.98950056e-01, 9.99066912e-01, 9.99170772e-01,\n",
       "       9.99263081e-01, 9.99345121e-01, 9.99418032e-01, 9.99482831e-01])"
      ]
     },
     "execution_count": 65,
     "metadata": {},
     "output_type": "execute_result"
    }
   ],
   "source": [
    "l1=np.arange(-10,10,0.1)\n",
    "import numpy as np\n",
    "def sigmoid(X):\n",
    "    return 1/(1+np.exp(-w0-w1*X))\n",
    "l2=sigmoid(l1)\n",
    "l2"
   ]
  },
  {
   "cell_type": "code",
   "execution_count": 66,
   "metadata": {},
   "outputs": [
    {
     "data": {
      "text/plain": [
       "[<matplotlib.lines.Line2D at 0x228cb418bc8>]"
      ]
     },
     "execution_count": 66,
     "metadata": {},
     "output_type": "execute_result"
    },
    {
     "data": {
      "image/png": "[encoded data removed]",
      "text/plain": [
       "<Figure size 432x288 with 1 Axes>"
      ]
     },
     "metadata": {
      "needs_background": "light"
     },
     "output_type": "display_data"
    }
   ],
   "source": [
    "plt.plot(x,y,'ro')\n",
    "plt.plot(l1,l2)"
   ]
  },
  {
   "cell_type": "code",
   "execution_count": 85,
   "metadata": {},
   "outputs": [
    {
     "data": {
      "text/plain": [
       "array([0, 0, 0, 0, 1, 1, 1, 1, 1, 1])"
      ]
     },
     "execution_count": 85,
     "metadata": {},
     "output_type": "execute_result"
    }
   ],
   "source": [
    "y_pre=model.predict(x)\n",
    "y_pre"
   ]
  },
  {
   "cell_type": "code",
   "execution_count": 86,
   "metadata": {},
   "outputs": [
    {
     "data": {
      "text/plain": [
       "array([[4, 0],\n",
       "       [0, 6]], dtype=int64)"
      ]
     },
     "execution_count": 86,
     "metadata": {},
     "output_type": "execute_result"
    }
   ],
   "source": [
    "from sklearn.metrics import confusion_matrix\n",
    "cm=confusion_matrix(y,model.predict(x))\n",
    "cm"
   ]
  },
  {
   "cell_type": "code",
   "execution_count": null,
   "metadata": {},
   "outputs": [],
   "source": []
  },
  {
   "cell_type": "code",
   "execution_count": null,
   "metadata": {},
   "outputs": [],
   "source": []
  }
 ],
 "metadata": {
  "kernelspec": {
   "display_name": "Python 3",
   "language": "python",
   "name": "python3"
  },
  "language_info": {
   "codemirror_mode": {
    "name": "ipython",
    "version": 3
   },
   "file_extension": ".py",
   "mimetype": "text/x-python",
   "name": "python",
   "nbconvert_exporter": "python",
   "pygments_lexer": "ipython3",
   "version": "3.7.6"
  }
 },
 "nbformat": 4,
 "nbformat_minor": 4
}
